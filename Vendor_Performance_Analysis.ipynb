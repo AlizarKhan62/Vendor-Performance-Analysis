{
 "cells": [
  {
   "cell_type": "code",
   "execution_count": null,
   "id": "7d7caaf5",
   "metadata": {},
   "outputs": [],
   "source": [
    "import pandas as pd\n",
    "import os\n",
    "from sqlalchemy import create_engine\n",
    "import logging \n",
    "import time\n",
    "\n",
    "logging.basicConfig(\n",
    "    filename='logs/ingestion_db.log',\n",
    "    level=logging.DEBUG,\n",
    "    format='%(asctime)s - %(levelname)s - %(message)s',\n",
    "    filemode='a' \n",
    ")"
   ]
  },
  {
   "cell_type": "code",
   "execution_count": 7,
   "id": "8874f335",
   "metadata": {},
   "outputs": [],
   "source": [
    "engine = create_engine('sqlite:///inventory.db')"
   ]
  },
  {
   "cell_type": "code",
   "execution_count": null,
   "id": "c6c51bde",
   "metadata": {},
   "outputs": [],
   "source": [
    "def ingest_db(df, table_name, engine):\n",
    "    '''this function will ingest dataframe into database table'''\n",
    "    df.to_sql(\n",
    "        table_name,\n",
    "        con=engine,\n",
    "        if_exists='replace',\n",
    "        index=False,\n",
    "        chunksize=50000  # insert in chunks of 50k rows\n",
    "    )\n"
   ]
  },
  {
   "cell_type": "code",
   "execution_count": 9,
   "id": "cdc9efdc",
   "metadata": {},
   "outputs": [],
   "source": [
    "def load_raw_data():\n",
    "    '''this function will load CSVs as dataframe & ingest into db '''\n",
    "    start = time.time()\n",
    "    for file in os.listdir('data'):\n",
    "      if '.csv' in file:\n",
    "         df = pd.read_csv('data/'+file)\n",
    "         logging.info(f'Ingesting {file} in db')\n",
    "         ingest_db(df,file[:-4],engine)\n",
    "    end = time.time()\n",
    "    total_time = (end-start)/60\n",
    "    logging.info('------- Ingestion Complete ------')\n",
    "    logging.info(f'Total time taken: {total_time} minutes')     "
   ]
  },
  {
   "cell_type": "code",
   "execution_count": 10,
   "id": "bcb0858f",
   "metadata": {},
   "outputs": [],
   "source": [
    "if __name__ == '__main__':\n",
    "    load_raw_data()"
   ]
  },
  {
   "cell_type": "code",
   "execution_count": null,
   "id": "1040dc13",
   "metadata": {},
   "outputs": [],
   "source": []
  },
  {
   "cell_type": "code",
   "execution_count": null,
   "id": "5a07ef6c",
   "metadata": {},
   "outputs": [],
   "source": []
  }
 ],
 "metadata": {
  "kernelspec": {
   "display_name": "Python 3",
   "language": "python",
   "name": "python3"
  },
  "language_info": {
   "codemirror_mode": {
    "name": "ipython",
    "version": 3
   },
   "file_extension": ".py",
   "mimetype": "text/x-python",
   "name": "python",
   "nbconvert_exporter": "python",
   "pygments_lexer": "ipython3",
   "version": "3.10.11"
  }
 },
 "nbformat": 4,
 "nbformat_minor": 5
}
